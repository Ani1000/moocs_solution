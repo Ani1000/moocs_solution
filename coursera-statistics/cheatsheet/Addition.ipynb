{
 "cells": [
  {
   "cell_type": "markdown",
   "metadata": {},
   "source": [
    "## Probability"
   ]
  },
  {
   "cell_type": "markdown",
   "metadata": {},
   "source": [
    "* Disjoint events, probability one of them occured is P(1) + P(2)+ ..., it's the same as probability one of number in die is add up to 1.\n",
    "* **events** : set of outcomes.\n",
    "* Law of Addition Rule, disjoint vs not disjoint. Disjoint, P(A and B) automatically zero.\n",
    "\n",
    "\n",
    "    P (A or B) = P (A) + P (B) − P (A and B)\n",
    "* Probability distributions : all disjoint, between 0 and 1, add up to 1.\n",
    "* **Sample space**, list of all possible outcomes. die event {2,3}, then **complement** {1,4,5,6}\n",
    "* Independence can allow two events to occurs at the same time. This will have a multiplication rule, where P( A and B occurs at the same time)\n",
    "\n",
    "\n",
    "    P(A and B) = P(A) × P(B)\n",
    "\n",
    "* For example, Since gender,handedness and person order(first vs third person) are independence event. We can, multiply together. (First or second or third) person female and right hand = P(female) * P(right hand).First two MR, third FL, \n",
    "\n",
    "\n",
    "    P(MR) ** 2  * P(FL)\n",
    "    \n",
    "\n",
    "* **Marginal probability**, row/columns total in propotion of total population. Not consider other variables.\n",
    "* **Join probability**, take intersection of two variables, in proportion of total population.\n",
    "* **Conditional probability*:\n",
    "\n",
    "\n",
    "    P (A|B) = P (A and B) / P(B) **or** P(A and B) = P(A|B) × P(B)\n",
    "    \n",
    "* We can use General multiplication rule in conjunction with marginal and conditional probability.\n",
    "* **with replacement**, data can picked over and over again, thus make it independent every pick. **Without replacement** make it dependant events."
   ]
  },
  {
   "cell_type": "markdown",
   "metadata": {},
   "source": [
    "## Distributions"
   ]
  },
  {
   "cell_type": "markdown",
   "metadata": {},
   "source": [
    "For z-score"
   ]
  },
  {
   "cell_type": "code",
   "execution_count": 3,
   "metadata": {
    "collapsed": false
   },
   "outputs": [
    {
     "data": {
      "text/plain": [
       "[1] 1\n"
      ]
     },
     "metadata": {},
     "output_type": "display_data"
    }
   ],
   "source": [
    "%%R\n",
    "\n",
    "mean = 1500\n",
    "sd = 300\n",
    "d = 1800\n",
    "(d-mean)/sd"
   ]
  },
  {
   "cell_type": "markdown",
   "metadata": {},
   "source": [
    "To calculate the percentiles"
   ]
  },
  {
   "cell_type": "code",
   "execution_count": 9,
   "metadata": {
    "collapsed": false
   },
   "outputs": [
    {
     "data": {
      "text/plain": [
       "[1] 0.9772499\n"
      ]
     },
     "metadata": {},
     "output_type": "display_data"
    }
   ],
   "source": [
    "%%R\n",
    "\n",
    "mean = 1500\n",
    "sd = 300\n",
    "point = 2100\n",
    "LT = T\n",
    "\n",
    "pnorm(point,mean=mean,sd=sd,lower.tail=LT)"
   ]
  },
  {
   "cell_type": "code",
   "execution_count": 11,
   "metadata": {
    "collapsed": false
   },
   "outputs": [
    {
     "data": {
      "text/plain": [
       "[1] 1423.996\n"
      ]
     },
     "metadata": {},
     "output_type": "display_data"
    }
   ],
   "source": [
    "%%R\n",
    "\n",
    "mean = 1500\n",
    "sd = 300\n",
    "percentile = 0.4\n",
    "LT = T\n",
    "\n",
    "qnorm(percentile,mean=mean,sd=sd,lower.tail=LT)"
   ]
  },
  {
   "cell_type": "markdown",
   "metadata": {},
   "source": [
    "##Pnorm ranges "
   ]
  },
  {
   "cell_type": "code",
   "execution_count": 30,
   "metadata": {
    "collapsed": false
   },
   "outputs": [
    {
     "data": {
      "text/plain": [
       "[1] 0.5063336\n"
      ]
     },
     "metadata": {},
     "output_type": "display_data"
    }
   ],
   "source": [
    "%%R\n",
    "\n",
    "mean = 70\n",
    "sd = 3.3\n",
    "lower = 69\n",
    "upper = 74\n",
    "LT = T\n",
    "# IN RANGE\n",
    "# 1 - pnorm(upper,mean=mean,sd=sd,lower.tail=!LT) - pnorm(lower,mean=mean,sd=sd,lower.tail=LT)\n",
    "\n",
    "# OUT RANGE\n",
    "# pnorm(upper,mean=mean,sd=sd,lower.tail=!LT) + pnorm(lower,mean=mean,sd=sd,lower.tail=LT)"
   ]
  },
  {
   "cell_type": "markdown",
   "metadata": {},
   "source": [
    "* **Standard normal distributions**, is mean 0 and sd 1. Used in default pnorm and qnorm R.\n",
    "* **Always draw normal probability distributions, and shade the are we're interesed**.\n",
    "* In evaluation the distribution through normal probability plot, imagine a straight line. If the data is skewed to the high end of the line, it's right skewed. Otherwise , low-end is left skewed.\n",
    "* To construct normal probability plot, for each observation, make a scatter plot with its Z-score(horizontal) against its percentile(vertical)."
   ]
  },
  {
   "cell_type": "code",
   "execution_count": null,
   "metadata": {
    "collapsed": true
   },
   "outputs": [],
   "source": []
  }
 ],
 "metadata": {
  "kernelspec": {
   "display_name": "Python 2",
   "language": "python",
   "name": "python2"
  },
  "language_info": {
   "codemirror_mode": {
    "name": "ipython",
    "version": 2
   },
   "file_extension": ".py",
   "mimetype": "text/x-python",
   "name": "python",
   "nbconvert_exporter": "python",
   "pygments_lexer": "ipython2",
   "version": "2.7.9"
  }
 },
 "nbformat": 4,
 "nbformat_minor": 0
}
