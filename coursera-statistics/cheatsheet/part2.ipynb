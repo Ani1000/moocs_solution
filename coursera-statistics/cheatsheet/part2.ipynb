{
 "cells": [
  {
   "cell_type": "markdown",
   "metadata": {},
   "source": [
    "## At least, probability"
   ]
  },
  {
   "cell_type": "code",
   "execution_count": 1,
   "metadata": {
    "collapsed": false
   },
   "outputs": [
    {
     "data": {
      "text/plain": [
       "[1] 0.009174713"
      ]
     },
     "execution_count": 1,
     "metadata": {},
     "output_type": "execute_result"
    }
   ],
   "source": [
    "pnorm(0.95,mean=0.9,sd=0.0212,lower.tail=F)"
   ]
  },
  {
   "cell_type": "code",
   "execution_count": 2,
   "metadata": {
    "collapsed": false
   },
   "outputs": [
    {
     "data": {
      "text/plain": [
       "[1] 0.00807125"
      ]
     },
     "execution_count": 2,
     "metadata": {},
     "output_type": "execute_result"
    }
   ],
   "source": [
    "sum(dbinom(190:200,200,0.90))"
   ]
  },
  {
   "cell_type": "markdown",
   "metadata": {},
   "source": [
    "## One categorical variable"
   ]
  },
  {
   "cell_type": "code",
   "execution_count": 15,
   "metadata": {
    "collapsed": false
   },
   "outputs": [
    {
     "data": {
      "text/plain": [
       "[1] 0.822962 0.877038"
      ]
     },
     "execution_count": 15,
     "metadata": {},
     "output_type": "execute_result"
    }
   ],
   "source": [
    "#Confidence interval, one categorical variable,two outcome levels, observing success\n",
    "\n",
    "p = 0.85\n",
    "n = 670\n",
    "CL = 0.95\n",
    "SE = sqrt(p*(1-p)/n)\n",
    "z_star = round(qnorm((1-CL)/2,lower.tail=F),digits=2)\n",
    "ME = z_star * SE\n",
    "\n",
    "c(p-ME, p+ME)"
   ]
  },
  {
   "cell_type": "markdown",
   "metadata": {},
   "source": [
    "So based on this data, we can interpret confidence interval as:\n",
    "\n",
    "* We are 95% confident that 83% to 87% of all Americans have good intuition about experimental design.\n",
    "* 95% of random samples of 670 Americans will yield confidence interval that will capture true proportion of Americans that have good intuition about experimental design."
   ]
  },
  {
   "cell_type": "code",
   "execution_count": 4,
   "metadata": {
    "collapsed": false
   },
   "outputs": [
    {
     "data": {
      "text/plain": [
       "[1] 4898.04"
      ]
     },
     "execution_count": 4,
     "metadata": {},
     "output_type": "execute_result"
    }
   ],
   "source": [
    "#Required sample size proportion for desired ME\n",
    "\n",
    "p = 0.85\n",
    "z_star = 1.96\n",
    "ME = 0.01\n",
    "\n",
    "z_star**2*p*(1-p)/ME**2"
   ]
  },
  {
   "cell_type": "code",
   "execution_count": 31,
   "metadata": {
    "collapsed": false
   },
   "outputs": [
    {
     "data": {
      "text/plain": [
       "[1] 9604"
      ]
     },
     "execution_count": 31,
     "metadata": {},
     "output_type": "execute_result"
    }
   ],
   "source": [
    "#Required sample size proportion for desired ME\n",
    "\n",
    "p = 0.5\n",
    "z_star = 1.96\n",
    "ME = 0.01\n",
    "\n",
    "z_star**2*p*(1-p)/ME**2"
   ]
  },
  {
   "cell_type": "code",
   "execution_count": 6,
   "metadata": {
    "collapsed": false
   },
   "outputs": [
    {
     "data": {
      "text/plain": [
       "[1] 0.3588534 0.5611466"
      ]
     },
     "execution_count": 6,
     "metadata": {},
     "output_type": "execute_result"
    }
   ],
   "source": [
    "#Confidence Interval\n",
    "#Observe one level in categorical variable, of categorical of two levels.\n",
    "#1  = Coursera, 2 = US\n",
    "n_1 = 83\n",
    "p_1 = 0.71\n",
    "\n",
    "n_2 = 1028\n",
    "p_2 = 0.25\n",
    "\n",
    "CL = 0.95\n",
    "\n",
    "SE = sqrt(   (p_1*(1-p_1)/n_1)+(p_2*(1-p_2)/n_2)   )\n",
    "z_star = round(qnorm((1-CL)/2, lower.tail=F),digits=2)\n",
    "ME = z_star*SE\n",
    "\n",
    "c((p_1-p_2)-ME, (p_1-p_2)+ME)\n"
   ]
  },
  {
   "cell_type": "code",
   "execution_count": 5,
   "metadata": {
    "collapsed": false
   },
   "outputs": [
    {
     "data": {
      "text/plain": [
       "[1] 2.641113e-19"
      ]
     },
     "execution_count": 5,
     "metadata": {},
     "output_type": "execute_result"
    }
   ],
   "source": [
    "#Hypothesis testing, one categorical variable, given null value(p)\n",
    "\n",
    "p = 0.5\n",
    "p_hat = 0.6\n",
    "n = 1983\n",
    "SL = 0.05\n",
    "SE = sqrt(p*(1-p)/n)\n",
    "z_star = round(qnorm((1-CL)/2,lower.tail=F),digits=2)\n",
    "\n",
    "pnorm(p_hat,mean=p,sd=SE,lower.tail=p_hat < p)"
   ]
  },
  {
   "cell_type": "markdown",
   "metadata": {},
   "source": [
    "question? Is majority Americans believe evolution? the data provide convincing evidence that majority of all Americans believe in evolution."
   ]
  },
  {
   "cell_type": "code",
   "execution_count": 6,
   "metadata": {
    "collapsed": false
   },
   "outputs": [
    {
     "data": {
      "text/plain": [
       "[1] 0.3588534 0.5611466"
      ]
     },
     "execution_count": 6,
     "metadata": {},
     "output_type": "execute_result"
    }
   ],
   "source": [
    "#Confidence Interval\n",
    "#Observe one level in categorical variable, of categorical of two levels.\n",
    "#1  = Coursera, 2 = US\n",
    "n_1 = 83\n",
    "p_1 = 0.71\n",
    "\n",
    "n_2 = 1028\n",
    "p_2 = 0.25\n",
    "\n",
    "CL = 0.95\n",
    "\n",
    "SE = sqrt(   (p_1*(1-p_1)/n_1)+(p_2*(1-p_2)/n_2)   )\n",
    "z_star = round(qnorm((1-CL)/2, lower.tail=F),digits=2)\n",
    "ME = z_star*SE\n",
    "\n",
    "c((p_1-p_2)-ME, (p_1-p_2)+ME)\n"
   ]
  },
  {
   "cell_type": "code",
   "execution_count": 27,
   "metadata": {
    "collapsed": false
   },
   "outputs": [
    {
     "data": {
      "text/plain": [
       "[1] -0.17807031  0.01251047"
      ]
     },
     "execution_count": 27,
     "metadata": {},
     "output_type": "execute_result"
    }
   ],
   "source": [
    "#Confidence Interval\n",
    "#Observe one level in categorical variable, of categorical of two levels.\n",
    "#1  = Coursera, 2 = US\n",
    "n_1 = 144\n",
    "p_1 = 71/144\n",
    "\n",
    "n_2 = 389\n",
    "p_2 = 224/389\n",
    "\n",
    "CL = 0.95\n",
    "\n",
    "SE = sqrt(   (p_1*(1-p_1)/n_1)+(p_2*(1-p_2)/n_2)   )\n",
    "z_star = round(qnorm((1-CL)/2, lower.tail=F),digits=2)\n",
    "ME = z_star*SE\n",
    "\n",
    "c((p_1-p_2)-ME, (p_1-p_2)+ME)\n"
   ]
  },
  {
   "cell_type": "code",
   "execution_count": 30,
   "metadata": {
    "collapsed": false
   },
   "outputs": [
    {
     "data": {
      "text/plain": [
       "[1] 0.04861754"
      ]
     },
     "execution_count": 30,
     "metadata": {},
     "output_type": "execute_result"
    }
   ],
   "source": [
    "SE"
   ]
  },
  {
   "cell_type": "markdown",
   "metadata": {},
   "source": [
    "**we are 95% confident that proportion of Courserians is 36% to 56% higher than US that believe there should be law for banning gun possesion**"
   ]
  },
  {
   "cell_type": "code",
   "execution_count": 13,
   "metadata": {
    "collapsed": false
   },
   "outputs": [
    {
     "data": {
      "text/plain": [
       "[1] 0.08257998"
      ]
     },
     "execution_count": 13,
     "metadata": {},
     "output_type": "execute_result"
    }
   ],
   "source": [
    "#Hypothesis testing for null value zero\n",
    "#Observe one level in categorical variable, of categorical of two levels.\n",
    "#1 = Male, 2 = Female\n",
    "\n",
    "n_1 = 90\n",
    "np_1 = 34\n",
    "p_1 = round(np_1/n_1,digits=2)\n",
    "\n",
    "\n",
    "n_2 = 122\n",
    "np_2 = 61\n",
    "p_2 = round(np_2/n_2,digits=2)\n",
    "\n",
    "p_pool = round((np_1+np_2)/(n_1+n_2),digits=2)\n",
    "null = 0\n",
    "\n",
    "SE = sqrt((p_pool*(1-p_pool)/n_1) + (p_pool*(1-p_pool)/n_2))\n",
    "pe = p_1 - p_2\n",
    "\n",
    "pnorm(pe,mean=null,sd=SE, lower.tail=pe < null) * 2\n"
   ]
  },
  {
   "cell_type": "markdown",
   "metadata": {},
   "source": [
    "**there is no difference between males and females with respect to likelihood reporting their kids to being bullied**"
   ]
  },
  {
   "cell_type": "code",
   "execution_count": 14,
   "metadata": {
    "collapsed": true
   },
   "outputs": [],
   "source": [
    "source(\"http://bit.ly/dasi_inference\")"
   ]
  },
  {
   "cell_type": "markdown",
   "metadata": {},
   "source": [
    "# Inference based simulation"
   ]
  },
  {
   "cell_type": "markdown",
   "metadata": {},
   "source": [
    "## One small sample proportion"
   ]
  },
  {
   "cell_type": "code",
   "execution_count": 16,
   "metadata": {
    "collapsed": false
   },
   "outputs": [
    {
     "name": "stdout",
     "output_type": "stream",
     "text": [
      "Single proportion -- success: yes \n",
      "Summary statistics: p_hat = 1 ;  n = 8 \n",
      "H0: p = 0.5 \n",
      "HA: p > 0.5 \n",
      "p-value =  0.0048 \n"
     ]
    },
    {
     "data": {
      "image/png": "[encoded data removed]"
     },
     "metadata": {},
     "output_type": "display_data"
    }
   ],
   "source": [
    "paul = factor(c(rep('yes',8),rep('no',0)), levels=c('yes','no'))\n",
    "inference(paul,est='proportion',type='ht',method='simulation',success='yes',null=0.5,alternative='greater')"
   ]
  },
  {
   "cell_type": "markdown",
   "metadata": {},
   "source": [
    "## Comparing two small sample proportion"
   ]
  },
  {
   "cell_type": "markdown",
   "metadata": {},
   "source": [
    "![jpeg](../galleries/coursera-statistics/5w35.jpg)\n",
    "\n",
    "\n",
    "*Screenshot taken from [Coursera](https://class.coursera.org/statistics-003/lecture/131) 04:57*"
   ]
  },
  {
   "cell_type": "markdown",
   "metadata": {},
   "source": [
    "## Chi-Square GOF"
   ]
  },
  {
   "cell_type": "markdown",
   "metadata": {},
   "source": [
    "![jpeg](../galleries/coursera-statistics/5w44.jpg)\n",
    "\n",
    "\n",
    "*Screenshot taken from [Coursera](https://class.coursera.org/statistics-003/lecture/133) 11:12*"
   ]
  },
  {
   "cell_type": "code",
   "execution_count": 17,
   "metadata": {
    "collapsed": false
   },
   "outputs": [
    {
     "data": {
      "text/plain": [
       "[1] 0.000150104"
      ]
     },
     "execution_count": 17,
     "metadata": {},
     "output_type": "execute_result"
    }
   ],
   "source": [
    "chi_square = 22.63\n",
    "dof = 4\n",
    "\n",
    "pchisq(chi_square,dof,lower.tail = F)"
   ]
  },
  {
   "cell_type": "markdown",
   "metadata": {},
   "source": [
    "the data provide convincing evidence that the observed counts distribution of race ethnicity for jurors did not follow population distribution"
   ]
  },
  {
   "cell_type": "markdown",
   "metadata": {},
   "source": [
    "## Chi-square independence test"
   ]
  },
  {
   "cell_type": "code",
   "execution_count": 18,
   "metadata": {
    "collapsed": false
   },
   "outputs": [
    {
     "data": {
      "text/plain": [
       "[1] 0.000150104"
      ]
     },
     "execution_count": 18,
     "metadata": {},
     "output_type": "execute_result"
    }
   ],
   "source": [
    "chi_square = 22.63\n",
    "dof = 4\n",
    "\n",
    "pchisq(chi_square,dof,lower.tail = F)"
   ]
  },
  {
   "cell_type": "markdown",
   "metadata": {},
   "source": [
    "the data provide convincing evidence, that obesity and relationship are related."
   ]
  },
  {
   "cell_type": "code",
   "execution_count": 21,
   "metadata": {
    "collapsed": false
   },
   "outputs": [
    {
     "data": {
      "text/plain": [
       "[1] 0.62"
      ]
     },
     "execution_count": 21,
     "metadata": {},
     "output_type": "execute_result"
    }
   ],
   "source": [
    "male = 6+15+3\n",
    "nostop = 4+3\n",
    "grandtotal = 6+16+4+6+15+3\n",
    "\n",
    "(male+nostop)/grandtotal"
   ]
  },
  {
   "cell_type": "code",
   "execution_count": 26,
   "metadata": {
    "collapsed": false
   },
   "outputs": [
    {
     "data": {
      "text/plain": [
       "[1] 0.14"
      ]
     },
     "execution_count": 26,
     "metadata": {},
     "output_type": "execute_result"
    }
   ],
   "source": [
    "7/50"
   ]
  },
  {
   "cell_type": "code",
   "execution_count": 24,
   "metadata": {
    "collapsed": false
   },
   "outputs": [
    {
     "data": {
      "text/plain": [
       "[1] 3.36"
      ]
     },
     "execution_count": 24,
     "metadata": {},
     "output_type": "execute_result"
    }
   ],
   "source": [
    "0.14*male"
   ]
  },
  {
   "cell_type": "code",
   "execution_count": 25,
   "metadata": {
    "collapsed": false
   },
   "outputs": [
    {
     "data": {
      "text/plain": [
       "[1] 3.36"
      ]
     },
     "execution_count": 25,
     "metadata": {},
     "output_type": "execute_result"
    }
   ],
   "source": [
    "0.14*24"
   ]
  },
  {
   "cell_type": "code",
   "execution_count": null,
   "metadata": {
    "collapsed": true
   },
   "outputs": [],
   "source": []
  }
 ],
 "metadata": {
  "kernelspec": {
   "display_name": "R",
   "language": "",
   "name": "ir"
  },
  "language_info": {
   "codemirror_mode": "r",
   "file_extension": ".r",
   "mimetype": "text/x-r-source",
   "name": "R",
   "pygments_lexer": "r",
   "version": "3.1.2"
  }
 },
 "nbformat": 4,
 "nbformat_minor": 0
}
