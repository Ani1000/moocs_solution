{
 "cells": [
  {
   "cell_type": "markdown",
   "metadata": {},
   "source": [
    "# Statistics Cheat Sheet"
   ]
  },
  {
   "cell_type": "code",
   "execution_count": 67,
   "metadata": {
    "collapsed": false
   },
   "outputs": [
    {
     "name": "stdout",
     "output_type": "stream",
     "text": [
      "The rpy2.ipython extension is already loaded. To reload it, use:\n",
      "  %reload_ext rpy2.ipython\n"
     ]
    }
   ],
   "source": [
    "%load_ext rpy2.ipython"
   ]
  },
  {
   "cell_type": "markdown",
   "metadata": {},
   "source": [
    "* Associated is dependant variable. Both can't happen at the same time\n",
    "* Anecdotal evidence happen in haphazard fashion. Only represent one/two cases, not known if can be generalized to population, and sometimes it happen in extreme cases.\n",
    "* Prospective collects inf as event unfold/continue. Retrospective collects inf of events in the past.\n",
    "* Stratified sampling: adv: each stratum similar output interest. Disadv, more complex analyze than SRS.\n",
    "* Cluster sampling, adv = more economic, not required strata like stratitified, useful when each cluster have diverse, but clusters perform similarity. Disadv: most complex technique\n",
    "* Randomized experiment:\n",
    "    * **Controlling**. Do their best to control the groups difference.\n",
    "    * **Randomization**. Randomly assign patient to groups, to avoid hidden lurking variable.\n",
    "    * **Replication**. Collecting large sample or replicate entire previous study.\n",
    "    * **Blocking**. Divide suspected variable into blocks, and randomly assign each block to treatment and placebo group.\n",
    "* Control treatment received fake treatment, **placebo**.\n",
    "* T-boxplot is called, whisker, try to capture the data outside the box. 1.5IQR(-Q1/+Q3). Outside whiskers is outliers.\n",
    "* **Contigency table** represent summary(often frequency) of two categorical variable. **Frequency table** showing one categorical variable.\n",
    "* Identify most useful row/column proportions in contigency. When classify based on first variable, we proportion in second variable.\n",
    "* In independent variables, we suspect that one variable should be equal regardless of dependency. But usually we will have small difference that occured due to chance"
   ]
  },
  {
   "cell_type": "markdown",
   "metadata": {},
   "source": [
    "# Probability"
   ]
  },
  {
   "cell_type": "markdown",
   "metadata": {},
   "source": [
    "* Disjoint events, probability one of them occured is P(1) + P(2)+ ..., it's the same as probability one of number in die is add up to 1.\n",
    "* **events** : set of outcomes.\n",
    "* Law of Addition Rule, disjoint vs not disjoint. Disjoint, P(A and B) automatically zero.\n",
    "\n",
    "\n",
    "    P (A or B) = P (A) + P (B) − P (A and B)\n",
    "* Probability distributions : all disjoint, between 0 and 1, add up to 1.\n",
    "* **Sample space**, list of all possible outcomes. die event {2,3}, then **complement** {1,4,5,6}\n",
    "* Independence can allow two events to occurs at the same time. This will have a multiplication rule, where P( A and B occurs at the same time)\n",
    "\n",
    "\n",
    "    P(A and B) = P(A) × P(B)\n",
    "\n",
    "* For example, Since gender,handedness and person order(first vs third person) are independence event. We can, multiply together. (First or second or third) person female and right hand = P(female) * P(right hand).First two MR, third FL, \n",
    "\n",
    "\n",
    "    P(MR) ** 2  * P(FL)\n",
    "    \n",
    "\n",
    "* **Marginal probability**, row/columns total in propotion of total population. Not consider other variables.\n",
    "* **Join probability**, take intersection of two variables, in proportion of total population.\n",
    "* **Conditional probability*:\n",
    "\n",
    "\n",
    "    P (A|B) = P (A and B) / P(B) **or** P(A and B) = P(A|B) × P(B)\n",
    "    \n",
    "* We can use General multiplication rule in conjunction with marginal and conditional probability.\n",
    "* **with replacement**, data can picked over and over again, thus make it independent every pick. **Without replacement** make it dependant events."
   ]
  },
  {
   "cell_type": "markdown",
   "metadata": {},
   "source": [
    "## Distributions"
   ]
  },
  {
   "cell_type": "markdown",
   "metadata": {},
   "source": [
    "For z-score"
   ]
  },
  {
   "cell_type": "code",
   "execution_count": 3,
   "metadata": {
    "collapsed": false
   },
   "outputs": [
    {
     "data": {
      "text/plain": [
       "[1] 1\n"
      ]
     },
     "metadata": {},
     "output_type": "display_data"
    }
   ],
   "source": [
    "%%R\n",
    "\n",
    "mean = 1500\n",
    "sd = 300\n",
    "d = 1800\n",
    "(d-mean)/sd"
   ]
  },
  {
   "cell_type": "markdown",
   "metadata": {},
   "source": [
    "To calculate the percentiles"
   ]
  },
  {
   "cell_type": "code",
   "execution_count": 9,
   "metadata": {
    "collapsed": false
   },
   "outputs": [
    {
     "data": {
      "text/plain": [
       "[1] 0.9772499\n"
      ]
     },
     "metadata": {},
     "output_type": "display_data"
    }
   ],
   "source": [
    "%%R\n",
    "\n",
    "mean = 1500\n",
    "sd = 300\n",
    "point = 2100\n",
    "LT = T\n",
    "\n",
    "pnorm(point,mean=mean,sd=sd,lower.tail=LT)"
   ]
  },
  {
   "cell_type": "code",
   "execution_count": 11,
   "metadata": {
    "collapsed": false
   },
   "outputs": [
    {
     "data": {
      "text/plain": [
       "[1] 1423.996\n"
      ]
     },
     "metadata": {},
     "output_type": "display_data"
    }
   ],
   "source": [
    "%%R\n",
    "\n",
    "mean = 1500\n",
    "sd = 300\n",
    "percentile = 0.4\n",
    "LT = T\n",
    "\n",
    "qnorm(percentile,mean=mean,sd=sd,lower.tail=LT)"
   ]
  },
  {
   "cell_type": "markdown",
   "metadata": {},
   "source": [
    "##Pnorm ranges "
   ]
  },
  {
   "cell_type": "code",
   "execution_count": 30,
   "metadata": {
    "collapsed": false
   },
   "outputs": [
    {
     "data": {
      "text/plain": [
       "[1] 0.5063336\n"
      ]
     },
     "metadata": {},
     "output_type": "display_data"
    }
   ],
   "source": [
    "%%R\n",
    "\n",
    "mean = 70\n",
    "sd = 3.3\n",
    "lower = 69\n",
    "upper = 74\n",
    "LT = T\n",
    "# IN RANGE\n",
    "# 1 - pnorm(upper,mean=mean,sd=sd,lower.tail=!LT) - pnorm(lower,mean=mean,sd=sd,lower.tail=LT)\n",
    "\n",
    "# OUT RANGE\n",
    "# pnorm(upper,mean=mean,sd=sd,lower.tail=!LT) + pnorm(lower,mean=mean,sd=sd,lower.tail=LT)"
   ]
  },
  {
   "cell_type": "markdown",
   "metadata": {},
   "source": [
    "* **Standard normal distributions**, is mean 0 and sd 1. Used in default pnorm and qnorm R.\n",
    "* **Always draw normal probability distributions, and shade the are we're interesed**.\n",
    "* In evaluation the distribution through normal probability plot, imagine a straight line. If the data is skewed to the high end of the line, it's right skewed. Otherwise , low-end is left skewed.\n",
    "* To construct normal probability plot, for each observation, make a scatter plot with its Z-score(horizontal) against its percentile(vertical)."
   ]
  },
  {
   "cell_type": "markdown",
   "metadata": {},
   "source": [
    "## Binomial"
   ]
  },
  {
   "cell_type": "markdown",
   "metadata": {},
   "source": [
    "![jpeg](../galleries/coursera-statistics/2w65.jpg)\n",
    "\n",
    "*Screenshot taken from [Coursera](https://class.coursera.org/statistics-003/lecture/55) video, 09:53*"
   ]
  },
  {
   "cell_type": "code",
   "execution_count": 5,
   "metadata": {
    "collapsed": false
   },
   "outputs": [
    {
     "data": {
      "text/plain": [
       "[1] 0.001446701\n"
      ]
     },
     "metadata": {},
     "output_type": "display_data"
    }
   ],
   "source": [
    "%%R\n",
    "\n",
    "k = 8\n",
    "n = 10\n",
    "p = 0.3\n",
    "\n",
    "dbinom(k,size=n,p=p)"
   ]
  },
  {
   "cell_type": "markdown",
   "metadata": {},
   "source": [
    "### Requirements"
   ]
  },
  {
   "cell_type": "markdown",
   "metadata": {},
   "source": [
    "* The trials are independent. \n",
    "* The number of trials, n, is fixed. \n",
    "* Each trial outcome can be classified as a success or failure. \n",
    "* The probability of a success, p, is the same for each trial. "
   ]
  },
  {
   "cell_type": "markdown",
   "metadata": {},
   "source": [
    "For calculating combinations,"
   ]
  },
  {
   "cell_type": "code",
   "execution_count": 25,
   "metadata": {
    "collapsed": false
   },
   "outputs": [
    {
     "data": {
      "text/plain": [
       "[1] 1\n"
      ]
     },
     "metadata": {},
     "output_type": "display_data"
    }
   ],
   "source": [
    "%%R\n",
    "k_success = 8\n",
    "trials = 8\n",
    "choose(trials,k_success)"
   ]
  },
  {
   "cell_type": "markdown",
   "metadata": {},
   "source": [
    "![jpeg](../galleries/coursera-statistics/2w84.jpg)\n",
    "\n",
    "*Screenshot taken from [Coursera](https://class.coursera.org/statistics-003/lecture/57) video, 12:07*"
   ]
  },
  {
   "cell_type": "markdown",
   "metadata": {
    "collapsed": false
   },
   "source": [
    "If for in fact the data is not sufficiently large, then it can't use normal distribution advantage. Then the only is one to do this, is manually compute for each of the value."
   ]
  },
  {
   "cell_type": "markdown",
   "metadata": {},
   "source": [
    "    P(p,n,k, k < 2) = P(0) + P(1)"
   ]
  },
  {
   "cell_type": "markdown",
   "metadata": {},
   "source": [
    "When we know mean and standard deviation of binomial-normal distribution, we can determine the probability using z=score."
   ]
  },
  {
   "cell_type": "markdown",
   "metadata": {},
   "source": [
    "![jpeg](../galleries/coursera-statistics/2w88.jpg)\n",
    "\n",
    "*Screenshot taken from [Coursera](https://class.coursera.org/statistics-003/lecture/59) video, 09:59*"
   ]
  },
  {
   "cell_type": "markdown",
   "metadata": {},
   "source": [
    "If all binomial requirements are followed, then this could also work."
   ]
  },
  {
   "cell_type": "code",
   "execution_count": 75,
   "metadata": {
    "collapsed": false
   },
   "outputs": [
    {
     "name": "stdout",
     "output_type": "stream",
     "text": [
      "Expected Value of point success is 14.0\n",
      "standard deviation is 3.02\n",
      "variance is 9.1204\n"
     ]
    }
   ],
   "source": [
    "import numpy as np\n",
    "\n",
    "n = 40\n",
    "p = 0.35\n",
    "sd = round(np.sqrt(n*p*(1-p)),2)\n",
    "\n",
    "\n",
    "print 'Expected Value of point success is', n*p\n",
    "print 'standard deviation is', sd\n",
    "print 'variance is' , sd**2"
   ]
  },
  {
   "cell_type": "code",
   "execution_count": 74,
   "metadata": {
    "collapsed": false
   },
   "outputs": [
    {
     "name": "stdout",
     "output_type": "stream",
     "text": [
      "Expected Value of point success is 1750.0\n",
      "standard deviation is 22.91\n",
      "variance is 524.8681\n"
     ]
    }
   ],
   "source": [
    "import numpy as np\n",
    "\n",
    "n = 2500\n",
    "p = 0.7\n",
    "sd = round(np.sqrt(n*p*(1-p)),2)\n",
    "\n",
    "print 'Expected Value of point success is', n*p\n",
    "print 'standard deviation is', sd\n",
    "print 'variance is' , sd**2"
   ]
  },
  {
   "cell_type": "markdown",
   "metadata": {},
   "source": [
    "To check whether the data is sufficiently large,"
   ]
  },
  {
   "cell_type": "code",
   "execution_count": 19,
   "metadata": {
    "collapsed": true
   },
   "outputs": [
    {
     "ename": "AssertionError",
     "evalue": "Not large enough to take advantage of normal approximation",
     "output_type": "error",
     "traceback": [
      "\u001b[0;31m---------------------------------------------------------------------------\u001b[0m",
      "\u001b[0;31mAssertionError\u001b[0m                            Traceback (most recent call last)",
      "\u001b[0;32m<ipython-input-19-171ee718fcdd>\u001b[0m in \u001b[0;36m<module>\u001b[0;34m()\u001b[0m\n\u001b[1;32m      2\u001b[0m \u001b[0mn\u001b[0m \u001b[0;34m=\u001b[0m \u001b[0;36m300\u001b[0m\u001b[0;34m\u001b[0m\u001b[0m\n\u001b[1;32m      3\u001b[0m \u001b[0;34m\u001b[0m\u001b[0m\n\u001b[0;32m----> 4\u001b[0;31m \u001b[0;32massert\u001b[0m \u001b[0;34m(\u001b[0m\u001b[0mn\u001b[0m\u001b[0;34m*\u001b[0m\u001b[0mp\u001b[0m \u001b[0;34m>=\u001b[0m \u001b[0;36m10\u001b[0m \u001b[0;32mand\u001b[0m \u001b[0mn\u001b[0m\u001b[0;34m*\u001b[0m\u001b[0;34m(\u001b[0m\u001b[0;36m1\u001b[0m\u001b[0;34m-\u001b[0m\u001b[0mp\u001b[0m\u001b[0;34m)\u001b[0m \u001b[0;34m>=\u001b[0m \u001b[0;36m10\u001b[0m\u001b[0;34m)\u001b[0m\u001b[0;34m,\u001b[0m \u001b[0;34m'Not large enough to take advantage of normal approximation'\u001b[0m\u001b[0;34m\u001b[0m\u001b[0m\n\u001b[0m",
      "\u001b[0;31mAssertionError\u001b[0m: Not large enough to take advantage of normal approximation"
     ]
    }
   ],
   "source": [
    "p = 0.01\n",
    "n = 300\n",
    "\n",
    "assert (n*p >= 10 and n*(1-p) >= 10), 'Not large enough to take advantage of normal approximation'"
   ]
  },
  {
   "cell_type": "markdown",
   "metadata": {},
   "source": [
    "For binorm norm, and for taking the probability of more than one events"
   ]
  },
  {
   "cell_type": "code",
   "execution_count": 37,
   "metadata": {
    "collapsed": false
   },
   "outputs": [
    {
     "data": {
      "text/plain": [
       "[1] 0.004332448\n"
      ]
     },
     "metadata": {},
     "output_type": "display_data"
    }
   ],
   "source": [
    "%%R\n",
    "\n",
    "val = 59\n",
    "mu = 80\n",
    "sd = 8\n",
    "tail = T\n",
    "\n",
    "# Add 0.5 to val if observe small range of observation\n",
    "ifsmall = (-0.5+!tail)\n",
    "\n",
    "pnorm (val,mean=mu,sd=sd,lower.tail=tail)"
   ]
  },
  {
   "cell_type": "markdown",
   "metadata": {},
   "source": [
    "Because there's no exact value in binomial, we have to decrement by 0.05."
   ]
  },
  {
   "cell_type": "markdown",
   "metadata": {},
   "source": [
    "## CLT"
   ]
  },
  {
   "cell_type": "markdown",
   "metadata": {},
   "source": [
    "![jpeg](../galleries/coursera-statistics/3w40.jpg)"
   ]
  },
  {
   "cell_type": "markdown",
   "metadata": {},
   "source": [
    "### Requirements"
   ]
  },
  {
   "cell_type": "markdown",
   "metadata": {},
   "source": [
    "* independent\n",
    "* random sampling/assignment\n",
    "* larger than 30 or if population is normal, < 10% population avoid dependant.\n",
    "* Or Plot population/sample distribution and see if normal.\n",
    "* (>> n, less shape required)"
   ]
  },
  {
   "cell_type": "markdown",
   "metadata": {},
   "source": [
    "## Confidence Interval"
   ]
  },
  {
   "cell_type": "markdown",
   "metadata": {},
   "source": [
    "![jpeg](../galleries/coursera-statistics/3w42.jpg)"
   ]
  },
  {
   "cell_type": "markdown",
   "metadata": {},
   "source": [
    "![jpeg](../galleries/coursera-statistics/3w50.jpg)\n",
    "\n",
    "\n",
    "*Snapshot taken from [Coursera](https://class.coursera.org/statistics-003/lecture/75) 04:26*"
   ]
  },
  {
   "cell_type": "markdown",
   "metadata": {},
   "source": [
    "Let's us state that:\n",
    "\n",
    "    n = 50\n",
    "    mu  =  3.2\n",
    "    s = 1.74\n",
    "    z = 1.96\n",
    "\n",
    "$$SE = \\frac{s}{\\sqrt{n}} = \\frac{1.74}{\\sqrt{50}} \\approx 0.246$$\n",
    "\n",
    "$$\\bar{x} \\pm z * SE = 3.2 \\pm 1.96 * 0.246 $$\n",
    "\n",
    "$$3.2 \\pm 0.48 = (2.72,3.68)$$"
   ]
  },
  {
   "cell_type": "markdown",
   "metadata": {},
   "source": [
    "## CI formula"
   ]
  },
  {
   "cell_type": "code",
   "execution_count": 76,
   "metadata": {
    "collapsed": false
   },
   "outputs": [
    {
     "data": {
      "text/plain": [
       "[1] 2.717697 3.682303\n"
      ]
     },
     "metadata": {},
     "output_type": "display_data"
    }
   ],
   "source": [
    "%%R\n",
    "\n",
    "#95% = 1.96\n",
    "#99% = 2.58\n",
    "\n",
    "n = 50\n",
    "mu = 3.2\n",
    "s = 1.74\n",
    "# z = 1.96\n",
    "CL = 0.95\n",
    "z = round(qnorm((1-CL)/2,lower.tail=F),digits=2)\n",
    "SE = s/sqrt(n)\n",
    "ME = z*SE\n",
    "\n",
    "\n",
    "c(mu-ME,mu+ME)"
   ]
  },
  {
   "cell_type": "markdown",
   "metadata": {},
   "source": [
    "## Sample Size for ME"
   ]
  },
  {
   "cell_type": "code",
   "execution_count": 82,
   "metadata": {
    "collapsed": false
   },
   "outputs": [
    {
     "data": {
      "text/plain": [
       "[1] 77.7924\n"
      ]
     },
     "metadata": {},
     "output_type": "display_data"
    }
   ],
   "source": [
    "%%R\n",
    "\n",
    "CL = 0.9\n",
    "ME = 4\n",
    "sd = 18\n",
    "\n",
    "#CONFIDENCE LEVEL\n",
    "#95% = 1.96\n",
    "#99% = 2.58\n",
    "#90% = 1.65\n",
    "#####\n",
    "\n",
    "z_star = round(qnorm((1-CL)/2,lower.tail=F),digits=2)\n",
    "#z_star = 1.65\n",
    "((z_star*sd)/ME)**2"
   ]
  },
  {
   "cell_type": "code",
   "execution_count": 82,
   "metadata": {
    "collapsed": false
   },
   "outputs": [
    {
     "data": {
      "text/plain": [
       "[1] 77.7924\n"
      ]
     },
     "metadata": {},
     "output_type": "display_data"
    }
   ],
   "source": [
    "%%R\n",
    "\n",
    "CL = 0.9\n",
    "ME = 4\n",
    "sd = 18\n",
    "\n",
    "#CONFIDENCE LEVEL\n",
    "#95% = 1.96\n",
    "#99% = 2.58\n",
    "#90% = 1.65\n",
    "#####\n",
    "\n",
    "z_star = round(qnorm((1-CL)/2,lower.tail=F),digits=2)\n",
    "#z_star = 1.65\n",
    "((z_star*sd)/ME)**2"
   ]
  },
  {
   "cell_type": "markdown",
   "metadata": {},
   "source": [
    "## Hypothesis Testing"
   ]
  },
  {
   "cell_type": "markdown",
   "metadata": {},
   "source": [
    " ![jpeg](../galleries/coursera-statistics/3w61.jpg)\n",
    "\n",
    "\n",
    "*Snapshot taken from [Coursera](https://class.coursera.org/statistics-003/lecture/79) 14:01*"
   ]
  },
  {
   "cell_type": "markdown",
   "metadata": {},
   "source": [
    "### P-value"
   ]
  },
  {
   "cell_type": "markdown",
   "metadata": {},
   "source": [
    "![jpeg](../galleries/coursera-statistics/3w54.jpg)\n",
    "\n",
    "\n",
    "*Snapshot taken from [Coursera](https://class.coursera.org/statistics-003/lecture/79) 05:19*"
   ]
  },
  {
   "cell_type": "markdown",
   "metadata": {},
   "source": [
    "\n",
    "\n",
    "Interpreting p-value:\n",
    "\n",
    "* X% chance that random sample of n will draw average of z\n",
    "* % chance is higher than threshold, therefore it could be happen by chance.\n",
    "\n",
    "\n",
    "This is one-sided HT. two-sided will need to double the counting 0.209*2 = 0.418"
   ]
  },
  {
   "cell_type": "markdown",
   "metadata": {},
   "source": [
    "To calculate HT for parameter mean in **two-sided**, lose x2 for one sided"
   ]
  },
  {
   "cell_type": "code",
   "execution_count": 71,
   "metadata": {
    "collapsed": false
   },
   "outputs": [
    {
     "data": {
      "text/plain": [
       "[1] 1.016802e-63\n"
      ]
     },
     "metadata": {},
     "output_type": "display_data"
    }
   ],
   "source": [
    "%%R\n",
    "\n",
    "xbar = 118.2\n",
    "mu = 100\n",
    "sd = 6.5\n",
    "n = 36\n",
    "\n",
    "SE = round(sd/sqrt(n),digits=2)\n",
    "\n",
    "pnorm(xbar, mean=mu,sd=SE, lower.tail=xbar < mu) * 2"
   ]
  },
  {
   "cell_type": "markdown",
   "metadata": {},
   "source": [
    "## Type Error"
   ]
  },
  {
   "cell_type": "markdown",
   "metadata": {},
   "source": [
    "* Type 1 Error, H0 actually true, == significance level, SL increase, error type 1 increase\n",
    "* Type 2 Error, HA actually true, == power. Power increase, error type 2 increase.\n",
    "* Type 1 error more dangerous, use lower significance level. Type 2 Error more dangerous, use higher significance level."
   ]
  },
  {
   "cell_type": "markdown",
   "metadata": {},
   "source": [
    "## Statistics vs Practical"
   ]
  },
  {
   "cell_type": "markdown",
   "metadata": {},
   "source": [
    "Statistical significance different you calculate different z-score . Practical significance is where you get the same impact eventhough statistically diffferent. Z-score 5 and 100 is different statistically, but practically the same, produce p-value approximately zero. Therefore one must be careful that they don't want to increase sample size too much, because it's practically useless, and use much resources."
   ]
  },
  {
   "cell_type": "markdown",
   "metadata": {},
   "source": [
    "* Use proportion if data is about categorical. Use mean when data is about numerical.\n",
    "* Most of the data is represented by the median.\n",
    "* Use stratified sampling as alternative way to decrease the width of the interval.\n",
    "* Remember that null value is always about the population parameter.\n",
    "* If the null difference is rejected in hypothesis testing, the confidence interval should not contain the null value."
   ]
  }
 ],
 "metadata": {
  "kernelspec": {
   "display_name": "Python 2",
   "language": "python",
   "name": "python2"
  },
  "language_info": {
   "codemirror_mode": {
    "name": "ipython",
    "version": 2
   },
   "file_extension": ".py",
   "mimetype": "text/x-python",
   "name": "python",
   "nbconvert_exporter": "python",
   "pygments_lexer": "ipython2",
   "version": "2.7.9"
  }
 },
 "nbformat": 4,
 "nbformat_minor": 0
}
