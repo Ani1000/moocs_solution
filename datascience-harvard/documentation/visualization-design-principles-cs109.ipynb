{
 "metadata": {
  "name": "",
  "signature": "sha256:6c34d115b19a73a0c3f9f15df1491275b039449165b6788763c75c1815845b60"
 },
 "nbformat": 3,
 "nbformat_minor": 0,
 "worksheets": [
  {
   "cells": [
    {
     "cell_type": "markdown",
     "metadata": {},
     "source": [
      "In Visualization that you want to communicate your finding, there are two ways to choose. Expressive Visualizaton and Effective Visualization. Expressive Visualization will only shows you the data and just the data.We show the visualization and force the readers to only focus on one end, one specific end that we choose. Expressive Visualization however is how about the user interactive with our visualization, so they themselves can find the insights.Expressive communication also called author driven, and Effective Visualization called readers driven. You may want to check this [article](http://napitupulu-jon.appspot.com/posts/inter-anim-ud507.html).\n",
      "<!--TEASER_END-->\n",
      "\n",
      "Earlier I write design principles of visualization in this [article](http://napitupulu-jon.appspot.com/posts/design-principles-ud507.html). This article now written in the different perspective."
     ]
    },
    {
     "cell_type": "markdown",
     "metadata": {},
     "source": [
      "Not an effective visualization can mean many things. It can mean that we make unwise choice about chart type(pie chart), wrong choice of colors, 3D, crossed arrow labels, overplotting label, and you can find many other things."
     ]
    },
    {
     "cell_type": "markdown",
     "metadata": {},
     "source": [
      "You may have to pay attention to variable size that you choose. Typically, you don't want to separate variables by using color,size,shape all at once. Your readers, I guess including you would be hard to interpret the chart. "
     ]
    },
    {
     "cell_type": "markdown",
     "metadata": {},
     "source": [
      "![](http://ed-informatics.org/wp-content/uploads/2010/01/few-preattentive-1.gif)"
     ]
    },
    {
     "cell_type": "markdown",
     "metadata": {},
     "source": [
      "*http://ed-informatics.org/2010/01/25/medical-computing-8/*"
     ]
    },
    {
     "cell_type": "markdown",
     "metadata": {},
     "source": [
      "You can use preattentive attributes. It means that human can acknowledge the difference without so much thinking about it. You can use pre-attentive to lead your readers focus to whatever particular value that interest. For example, you can make all of the value by some attribute(shapes,color,angle) but choose the opposite for the particular value to make it more distinct."
     ]
    },
    {
     "cell_type": "markdown",
     "metadata": {},
     "source": [
      "![](http://image.slidesharecdn.com/arecommendersystemforexploratorybrowsing-130716111936-phpapp02/95/spara-a-recommender-system-for-exploratory-browsing-7-638.jpg?cb=1373991866)"
     ]
    },
    {
     "cell_type": "markdown",
     "metadata": {},
     "source": [
      "Visual Attributes can be ranked by data types. For example take a look at the Mackinlay rank of data types, 1986. This could help us prioritize more about variable that are matters, we can choose the point position to the less of the focus, length, size or other retinal variables."
     ]
    },
    {
     "cell_type": "markdown",
     "metadata": {},
     "source": [
      "![](http://mkweb.bcgsc.ca/brewer/img/brewer-swatches-subset.png)"
     ]
    },
    {
     "cell_type": "markdown",
     "metadata": {},
     "source": [
      "For the colors, it is much more intuitive for the readers to only differentiate two-three color. More than that, then it just lose its meaning. We can make one ordered gradient color, or two ordered gradient color.This one/two ordinal color you can find in Cyntia Brewer Article. One ordered brewer often called sequential color, while the two called divergent color. You want to keep track which color is good or bad, or more towards A than B.Maintain intuition for more than three color it's really hard to perceive. This get to means that rainbow colors are bad, really bad. You might want to never choose this chart type. Often people choose rainbow colors for quantitative data, and this means your readers going to have hard time to have the order of the color."
     ]
    },
    {
     "cell_type": "markdown",
     "metadata": {},
     "source": [
      "![](http://media1.s-nbcnews.com/j/streams/2013/February/130222/1C6124186-130220-color-patterns-330p.blocks_desktop_large.jpg)"
     ]
    },
    {
     "cell_type": "markdown",
     "metadata": {},
     "source": [
      "*featurepics.com stock/*"
     ]
    },
    {
     "cell_type": "markdown",
     "metadata": {},
     "source": [
      "For the color you also have to concern about those who are color blind. Statistics shows that 8% male in the world are color blind, 1% for the female. Color blind means people can differentiate color perfectly in green and blue. This is bad if you include red and green. But not all red and green hue are evil to color blind. You may want to check red and green that are fit for all.Image above are a test that people can try whether they are color blind or not."
     ]
    },
    {
     "cell_type": "markdown",
     "metadata": {},
     "source": [
      "Indeed the the visual representation is the job for the graphic editor. Without adequate training of graphics visuals, scientists often put a bad chart for their visual conclusion. It's really sad how their readers could misinterpret on the work that they've been working. So as a data scientist, it's your job to think from the beginning to the end, which is best communicate your finding with the right visualization. "
     ]
    },
    {
     "cell_type": "markdown",
     "metadata": {},
     "source": [
      "![](data:image/jpeg;base64,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)"
     ]
    },
    {
     "cell_type": "markdown",
     "metadata": {},
     "source": [
      "![](https://s3.amazonaws.com/data.tumblr.com/tumblr_m84ds788mR1r9t0f2o1_500.jpg)"
     ]
    },
    {
     "cell_type": "markdown",
     "metadata": {},
     "source": [
      "One thing that you may pay attention to is scale distortion. What do you notice the mistake from the graph? This is danger manipulation of the bar chart. If you look carefully, you will see that there's decrease about a quarter between 'now' and 'January 1, 2013'. There is a wide gap ratio between these two. But this is wrong. You see that the chart isn't start from zero. If this might be the case, then the ratio isn't so high. If you intend to do this, keep your readers notified about the zoom that you do. If you compare between two chart, pay attention to scale of each chart, it should be the same.Bar chart is still better for the chart. You might want to replace any pie chart that you want or you hope to make with the bar chart. But always keep in mind the danger of the bar chart itself."
     ]
    },
    {
     "cell_type": "markdown",
     "metadata": {},
     "source": [
      "![](http://www.infovis-wiki.net/images/thumb/5/55/DIR.jpg/600px-DIR.jpg)"
     ]
    },
    {
     "cell_type": "markdown",
     "metadata": {},
     "source": [
      "*http://www.infovis-wiki.net/index.php/Data-Ink_Ratio*"
     ]
    },
    {
     "cell_type": "markdown",
     "metadata": {},
     "source": [
      "Often you have seen how pretty everyone makes chart. They makes the picture in the chart, complete title sentence, and many other ways. To keep the chart relevant and clear, you want to reduce the visual representation that isn't relevant to the data. This often called Data-Ink Ratio. You want to keep your data as clear as possible. Of course you can double encoding your data with color or size, but try not to stray from the data. Below are the example image that are overink and the result after reducing it."
     ]
    },
    {
     "cell_type": "markdown",
     "metadata": {},
     "source": [
      "![](http://www.clickz.com/IMG/331/278331/john-gagnon-chart.png?1386788567)"
     ]
    },
    {
     "cell_type": "markdown",
     "metadata": {},
     "source": [
      "*http://www.infovis-wiki.net/index.php/Data-Ink_Ratio*"
     ]
    },
    {
     "cell_type": "markdown",
     "metadata": {},
     "source": [
      "> **RESOUCES**:\n",
      "\n",
      "> * http://cs109.github.io/2014/"
     ]
    }
   ],
   "metadata": {}
  }
 ]
}